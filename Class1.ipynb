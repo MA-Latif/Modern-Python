{
  "nbformat": 4,
  "nbformat_minor": 0,
  "metadata": {
    "colab": {
      "provenance": [],
      "authorship_tag": "ABX9TyPvt+ExzF62MP4POJ0e7hBc",
      "include_colab_link": true
    },
    "kernelspec": {
      "name": "python3",
      "display_name": "Python 3"
    },
    "language_info": {
      "name": "python"
    }
  },
  "cells": [
    {
      "cell_type": "markdown",
      "metadata": {
        "id": "view-in-github",
        "colab_type": "text"
      },
      "source": [
        "<a href=\"https://colab.research.google.com/github/MA-Latif/Modern-Python/blob/main/Class1.ipynb\" target=\"_parent\"><img src=\"https://colab.research.google.com/assets/colab-badge.svg\" alt=\"Open In Colab\"/></a>"
      ]
    },
    {
      "cell_type": "code",
      "execution_count": null,
      "metadata": {
        "colab": {
          "base_uri": "https://localhost:8080/"
        },
        "id": "JW-5-XZPSwOo",
        "outputId": "596f2921-2092-4abf-9bf6-f281f94c5435"
      },
      "outputs": [
        {
          "output_type": "stream",
          "name": "stdout",
          "text": [
            "Enter your Name=amjad\n",
            "Your Name is  amjad\n"
          ]
        }
      ],
      "source": [
        "UserName=input(\"Enter your Name=\")\n",
        "print(\"Your Name is \", UserName)"
      ]
    },
    {
      "cell_type": "code",
      "source": [
        "x=input(\"Please Enter your first Value\")\n",
        "y=input(\"Please enter your second value\")\n",
        "result=int(x)+int(y)\n",
        "print(result)"
      ],
      "metadata": {
        "colab": {
          "base_uri": "https://localhost:8080/"
        },
        "id": "UVMfuENqT10y",
        "outputId": "89d54d7a-0919-4aef-b8f4-7a2b1d4ab623"
      },
      "execution_count": null,
      "outputs": [
        {
          "output_type": "stream",
          "name": "stdout",
          "text": [
            "Please Enter your first Value10\n",
            "Please enter your second value15\n",
            "25\n"
          ]
        }
      ]
    },
    {
      "cell_type": "markdown",
      "source": [],
      "metadata": {
        "id": "HnIJP5SCT9cB"
      }
    }
  ]
}